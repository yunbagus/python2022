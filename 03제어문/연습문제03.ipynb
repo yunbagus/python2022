{
 "cells": [
  {
   "cell_type": "markdown",
   "id": "b8eac73a-e720-4819-a326-0d3f9fc3070d",
   "metadata": {},
   "source": [
    "# Q1\n",
    "다음 코드의 결괏값은 무엇일까?\n",
    "\n",
    "a = \"Life is too short, you need python\"\n",
    "\n",
    "if \"wife\" in a: print(\"wife\")\n",
    "elif \"python\" in a and \"you\" not in a: print(\"python\")\n",
    "elif \"shirt\" not in a: print(\"shirt\")\n",
    "elif \"need\" in a: print(\"need\")\n",
    "else: print(\"none\")"
   ]
  },
  {
   "cell_type": "markdown",
   "id": "f2c4f0f8-eb27-45ba-8235-8ddd7b512fd8",
   "metadata": {},
   "source": [
    "shirt 가 출력됨 (가장 먼저 참이 되는 조건문) "
   ]
  },
  {
   "cell_type": "markdown",
   "id": "f3f4f2c9-4730-46dc-b9e7-4891cbb8b303",
   "metadata": {},
   "source": [
    "# Q2\n",
    "while문을 사용해 1부터 1000까지의 자연수 중 3의 배수의 합을 구해 보자"
   ]
  },
  {
   "cell_type": "code",
   "execution_count": 1,
   "id": "50f8a391-a007-42ea-9511-45ad6ce82b2a",
   "metadata": {},
   "outputs": [
    {
     "name": "stdout",
     "output_type": "stream",
     "text": [
      "166833\n"
     ]
    }
   ],
   "source": [
    "a=0 \n",
    "i=1\n",
    "while i <= 1000 : \n",
    "    if i%3==0:\n",
    "        a+=i\n",
    "    i+=1\n",
    "print(a) #들여쓰기 안 하면 i가 1~1000일 때의 값이 하나씩 나옴 "
   ]
  },
  {
   "cell_type": "markdown",
   "id": "923227e5-f202-4773-9a59-1b7ef93c3116",
   "metadata": {},
   "source": [
    "# Q3\n",
    "while문을 사용하여 다음과 같이 별(*)을 표시하는 프로그램을 작성해 보자."
   ]
  },
  {
   "cell_type": "code",
   "execution_count": 2,
   "id": "07955655-0967-4a7b-9838-ef546cb86718",
   "metadata": {},
   "outputs": [
    {
     "name": "stdout",
     "output_type": "stream",
     "text": [
      "**\n",
      "***\n",
      "****\n",
      "*****\n",
      "******\n"
     ]
    }
   ],
   "source": [
    "a=1\n",
    "while a < 6 :\n",
    "    a+=1\n",
    "    if a>6 : break\n",
    "    else : print('*'*a)"
   ]
  },
  {
   "cell_type": "code",
   "execution_count": 4,
   "id": "9b4035fb-5ada-46f2-8587-9ee19ae262a8",
   "metadata": {},
   "outputs": [
    {
     "name": "stdout",
     "output_type": "stream",
     "text": [
      "**\n",
      "***\n",
      "****\n",
      "*****\n",
      "******\n"
     ]
    }
   ],
   "source": [
    "a=1\n",
    "while a < 6 :\n",
    "    a+=1\n",
    "    if a>6 : break\n",
    "    print('*'*a)"
   ]
  },
  {
   "cell_type": "markdown",
   "id": "4e81a789-e272-4aef-a76d-8552ccd61344",
   "metadata": {},
   "source": [
    "# Q4\n",
    "for문을 사용해 1부터 100까지의 숫자를 출력해 보자."
   ]
  },
  {
   "cell_type": "code",
   "execution_count": 6,
   "id": "0d78f826-6433-4a43-8fb8-0f204f933a55",
   "metadata": {},
   "outputs": [
    {
     "name": "stdout",
     "output_type": "stream",
     "text": [
      "1\n",
      "2\n",
      "3\n",
      "4\n",
      "5\n",
      "6\n",
      "7\n",
      "8\n",
      "9\n",
      "10\n",
      "11\n",
      "12\n",
      "13\n",
      "14\n",
      "15\n",
      "16\n",
      "17\n",
      "18\n",
      "19\n",
      "20\n",
      "21\n",
      "22\n",
      "23\n",
      "24\n",
      "25\n",
      "26\n",
      "27\n",
      "28\n",
      "29\n",
      "30\n",
      "31\n",
      "32\n",
      "33\n",
      "34\n",
      "35\n",
      "36\n",
      "37\n",
      "38\n",
      "39\n",
      "40\n",
      "41\n",
      "42\n",
      "43\n",
      "44\n",
      "45\n",
      "46\n",
      "47\n",
      "48\n",
      "49\n",
      "50\n",
      "51\n",
      "52\n",
      "53\n",
      "54\n",
      "55\n",
      "56\n",
      "57\n",
      "58\n",
      "59\n",
      "60\n",
      "61\n",
      "62\n",
      "63\n",
      "64\n",
      "65\n",
      "66\n",
      "67\n",
      "68\n",
      "69\n",
      "70\n",
      "71\n",
      "72\n",
      "73\n",
      "74\n",
      "75\n",
      "76\n",
      "77\n",
      "78\n",
      "79\n",
      "80\n",
      "81\n",
      "82\n",
      "83\n",
      "84\n",
      "85\n",
      "86\n",
      "87\n",
      "88\n",
      "89\n",
      "90\n",
      "91\n",
      "92\n",
      "93\n",
      "94\n",
      "95\n",
      "96\n",
      "97\n",
      "98\n",
      "99\n",
      "100\n"
     ]
    }
   ],
   "source": [
    "for i in range(1,101):\n",
    "    print(i)"
   ]
  },
  {
   "cell_type": "markdown",
   "id": "fed7fa1b-9b45-470a-97ca-b1a559817514",
   "metadata": {},
   "source": [
    "# Q5\n",
    "A 학급에 총 10명의 학생이 있다. 이 학생들의 중간고사 점수는 다음과 같다.\n",
    "\n",
    "[70, 60, 55, 75, 95, 90, 80, 80, 85, 100]\n",
    "\n",
    "for문을 사용하여 A 학급의 평균 점수를 구해 보자."
   ]
  },
  {
   "cell_type": "code",
   "execution_count": 22,
   "id": "072d0827-fe78-4d2a-92b1-e3bf2d422de1",
   "metadata": {},
   "outputs": [
    {
     "name": "stdout",
     "output_type": "stream",
     "text": [
      "79.0\n"
     ]
    }
   ],
   "source": [
    "scores=[70, 60, 55, 75, 95, 90, 80, 80, 85, 100]\n",
    "total=0\n",
    "for score in scores :\n",
    "    total+=score\n",
    "print(total/len(scores))"
   ]
  },
  {
   "cell_type": "code",
   "execution_count": 11,
   "id": "7c51c910-e09c-452f-b902-7bc97d204e4b",
   "metadata": {},
   "outputs": [
    {
     "name": "stdout",
     "output_type": "stream",
     "text": [
      "79.0\n"
     ]
    }
   ],
   "source": [
    "scores=[70, 60, 55, 75, 95, 90, 80, 80, 85, 100]\n",
    "i=1\n",
    "total=0\n",
    "while i < len(scores) :\n",
    "    i=i+1\n",
    "for score in scores :\n",
    "    total+=score\n",
    "avg_score=total/i\n",
    "print(avg_score)"
   ]
  },
  {
   "cell_type": "code",
   "execution_count": 16,
   "id": "a386a966-8a22-465e-81c0-47dd05c439cb",
   "metadata": {},
   "outputs": [
    {
     "name": "stdout",
     "output_type": "stream",
     "text": [
      "10\n"
     ]
    }
   ],
   "source": [
    "scores=[70, 60, 55, 75, 95, 90, 80, 80, 85, 100]\n",
    "i=0\n",
    "while i < len(scores) :\n",
    "    i=i+1\n",
    "print(i)"
   ]
  },
  {
   "cell_type": "markdown",
   "id": "1f7394e4-8f06-482f-b59c-096310cf5562",
   "metadata": {},
   "source": [
    "# Q6\n",
    "리스트 중에서 홀수에만 2를 곱하여 저장하는 다음 코드가 있다.\n",
    "\n",
    "numbers = [1, 2, 3, 4, 5]\n",
    "result = []\n",
    "for n in numbers:\n",
    "    if n % 2 == 1:\n",
    "        result.append(n*2)\n",
    "위 코드를 리스트 내포(list comprehension)를 사용하여 표현해 보자."
   ]
  },
  {
   "cell_type": "code",
   "execution_count": 13,
   "id": "d5a8c934-0711-4905-ac5b-2d15886118ee",
   "metadata": {},
   "outputs": [
    {
     "name": "stdout",
     "output_type": "stream",
     "text": [
      "[2, 6, 10]\n"
     ]
    }
   ],
   "source": [
    "numbers = [1,2,3,4,5]\n",
    "result=[n*2 for n in numbers if n%2==1]\n",
    "print(result)"
   ]
  },
  {
   "cell_type": "code",
   "execution_count": 15,
   "id": "69ac7392-9e93-4fd9-9dbf-7292a41aa996",
   "metadata": {},
   "outputs": [
    {
     "name": "stdout",
     "output_type": "stream",
     "text": [
      "[2, 6, 10]\n"
     ]
    }
   ],
   "source": [
    "numbers = [1, 2, 3, 4, 5]\n",
    "result = []\n",
    "for n in numbers:\n",
    "    if n % 2 == 1:\n",
    "        result.append(n*2)\n",
    "print(result)"
   ]
  },
  {
   "cell_type": "code",
   "execution_count": null,
   "id": "8cc2a92a-dbdc-4c09-9773-d3d64301a612",
   "metadata": {},
   "outputs": [],
   "source": []
  }
 ],
 "metadata": {
  "kernelspec": {
   "display_name": "Python 3",
   "language": "python",
   "name": "python3"
  },
  "language_info": {
   "codemirror_mode": {
    "name": "ipython",
    "version": 3
   },
   "file_extension": ".py",
   "mimetype": "text/x-python",
   "name": "python",
   "nbconvert_exporter": "python",
   "pygments_lexer": "ipython3",
   "version": "3.8.8"
  }
 },
 "nbformat": 4,
 "nbformat_minor": 5
}
