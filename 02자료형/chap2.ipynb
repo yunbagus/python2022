{
 "cells": [
  {
   "cell_type": "code",
   "execution_count": 3,
   "id": "6f30be5e-18a1-46a4-9e49-616fa587e74b",
   "metadata": {},
   "outputs": [],
   "source": [
    "a = 'Hello'\n",
    "b = \" I'm YooYeon\""
   ]
  },
  {
   "cell_type": "code",
   "execution_count": null,
   "id": "bb2f83d9-94a0-42be-95c0-30d84983f70e",
   "metadata": {},
   "outputs": [],
   "source": []
  },
  {
   "cell_type": "code",
   "execution_count": 4,
   "id": "0dd4e67b-ec56-43f7-b73f-c9e86d42a743",
   "metadata": {},
   "outputs": [
    {
     "data": {
      "text/plain": [
       "\"Hello I'm YooYeon\""
      ]
     },
     "execution_count": 4,
     "metadata": {},
     "output_type": "execute_result"
    }
   ],
   "source": [
    "a+b"
   ]
  },
  {
   "cell_type": "code",
   "execution_count": 5,
   "id": "9aaef8b0-e0b1-4778-a415-e7f2bce4cb1e",
   "metadata": {},
   "outputs": [
    {
     "data": {
      "text/plain": [
       "'HelloHello'"
      ]
     },
     "execution_count": 5,
     "metadata": {},
     "output_type": "execute_result"
    }
   ],
   "source": [
    "a*2"
   ]
  },
  {
   "cell_type": "code",
   "execution_count": 6,
   "id": "18c5f15f-d31d-4329-b653-5da2a49a57ec",
   "metadata": {},
   "outputs": [
    {
     "name": "stdout",
     "output_type": "stream",
     "text": [
      "==================================================\n",
      "My Program\n",
      "==================================================\n"
     ]
    }
   ],
   "source": [
    "print(\"=\" * 50)\n",
    "print(\"My Program\")\n",
    "print(\"=\" * 50)"
   ]
  },
  {
   "cell_type": "code",
   "execution_count": 1,
   "id": "9cf41c4c-9ef6-46e4-9879-017df33a89a7",
   "metadata": {},
   "outputs": [
    {
     "data": {
      "text/plain": [
       "'I ate 10 apples. so I was sick for 3 days.'"
      ]
     },
     "execution_count": 1,
     "metadata": {},
     "output_type": "execute_result"
    }
   ],
   "source": [
    "\"I ate {0} apples. so I was sick for {day} days.\".format(10, day=3)"
   ]
  },
  {
   "cell_type": "code",
   "execution_count": 8,
   "id": "e501bf35-3c8f-483a-a6ae-3753cadfe9b8",
   "metadata": {},
   "outputs": [
    {
     "data": {
      "text/plain": [
       "'I ate 10 apples. so I was sick for 1 days.'"
      ]
     },
     "execution_count": 8,
     "metadata": {},
     "output_type": "execute_result"
    }
   ],
   "source": [
    "\"I ate {number} apples. so I was sick for {day} days.\".format(number=10,day=1)"
   ]
  },
  {
   "cell_type": "code",
   "execution_count": 9,
   "id": "b9a4e92c-6294-4fde-850d-91ecccdca1d0",
   "metadata": {},
   "outputs": [
    {
     "data": {
      "text/plain": [
       "'I ate 10 apples. so I was sick for 1 days.'"
      ]
     },
     "execution_count": 9,
     "metadata": {},
     "output_type": "execute_result"
    }
   ],
   "source": [
    "\"I ate {0} apples. so I was sick for {day} days.\".format(10,day=1)"
   ]
  },
  {
   "cell_type": "code",
   "execution_count": 12,
   "id": "9ee49f94-c71b-421b-9198-01085aae5885",
   "metadata": {},
   "outputs": [
    {
     "ename": "SyntaxError",
     "evalue": "positional argument follows keyword argument (<ipython-input-12-58239286741e>, line 1)",
     "output_type": "error",
     "traceback": [
      "\u001b[1;36m  File \u001b[1;32m\"<ipython-input-12-58239286741e>\"\u001b[1;36m, line \u001b[1;32m1\u001b[0m\n\u001b[1;33m    \"I ate {number} apples. so I was sick for {0} days.\".format(number=10,5)\u001b[0m\n\u001b[1;37m                                                                          ^\u001b[0m\n\u001b[1;31mSyntaxError\u001b[0m\u001b[1;31m:\u001b[0m positional argument follows keyword argument\n"
     ]
    }
   ],
   "source": [
    "\"I ate {number} apples. so I was sick for {0} days.\".format(number=10,5)"
   ]
  },
  {
   "cell_type": "code",
   "execution_count": 1,
   "id": "5707ea28-cdad-4d8e-85d1-4bee670a8d36",
   "metadata": {},
   "outputs": [
    {
     "data": {
      "text/plain": [
       "[1, 2, 3]"
      ]
     },
     "execution_count": 1,
     "metadata": {},
     "output_type": "execute_result"
    }
   ],
   "source": [
    "a=[1,2,3]\n",
    "a"
   ]
  },
  {
   "cell_type": "code",
   "execution_count": 2,
   "id": "61dc63d4-1704-4b25-ae57-12d8d2551ff5",
   "metadata": {},
   "outputs": [
    {
     "data": {
      "text/plain": [
       "1"
      ]
     },
     "execution_count": 2,
     "metadata": {},
     "output_type": "execute_result"
    }
   ],
   "source": [
    "a[0]"
   ]
  },
  {
   "cell_type": "code",
   "execution_count": 5,
   "id": "3d562ecd-4531-47b7-afa9-bdc1fa66e38a",
   "metadata": {},
   "outputs": [
    {
     "data": {
      "text/plain": [
       "4"
      ]
     },
     "execution_count": 5,
     "metadata": {},
     "output_type": "execute_result"
    }
   ],
   "source": [
    "a[0]+a[2]"
   ]
  },
  {
   "cell_type": "code",
   "execution_count": 6,
   "id": "f5e7505a-1026-4950-a99c-ae402e3ade57",
   "metadata": {},
   "outputs": [
    {
     "data": {
      "text/plain": [
       "[1, 2, 3, ['a', 'b', 'c']]"
      ]
     },
     "execution_count": 6,
     "metadata": {},
     "output_type": "execute_result"
    }
   ],
   "source": [
    "a=[1,2,3,['a','b','c']]\n",
    "a"
   ]
  },
  {
   "cell_type": "code",
   "execution_count": 8,
   "id": "181d8afa-5630-4042-ade9-c4c7f874632d",
   "metadata": {},
   "outputs": [
    {
     "data": {
      "text/plain": [
       "['a', 'b', 'c']"
      ]
     },
     "execution_count": 8,
     "metadata": {},
     "output_type": "execute_result"
    }
   ],
   "source": [
    "a[0]\n",
    "a[-1]\n",
    "a[3]"
   ]
  },
  {
   "cell_type": "code",
   "execution_count": 9,
   "id": "b6714553-af20-4d30-8a5c-f803707c5c76",
   "metadata": {},
   "outputs": [
    {
     "data": {
      "text/plain": [
       "1"
      ]
     },
     "execution_count": 9,
     "metadata": {},
     "output_type": "execute_result"
    }
   ],
   "source": [
    "a[0]"
   ]
  },
  {
   "cell_type": "code",
   "execution_count": 10,
   "id": "95254ab8-8fab-4297-9a14-e3364295ee58",
   "metadata": {},
   "outputs": [
    {
     "data": {
      "text/plain": [
       "'b'"
      ]
     },
     "execution_count": 10,
     "metadata": {},
     "output_type": "execute_result"
    }
   ],
   "source": [
    "a[-1][1]"
   ]
  },
  {
   "cell_type": "code",
   "execution_count": 11,
   "id": "b34277ee-e392-42f5-9219-4333397ee1a3",
   "metadata": {},
   "outputs": [],
   "source": [
    " a = [1, 2, ['a', 'b', ['Life', 'is']]]"
   ]
  },
  {
   "cell_type": "code",
   "execution_count": 12,
   "id": "c078ef6e-ac14-4e0a-a316-294b6625e8ec",
   "metadata": {},
   "outputs": [
    {
     "data": {
      "text/plain": [
       "'Life'"
      ]
     },
     "execution_count": 12,
     "metadata": {},
     "output_type": "execute_result"
    }
   ],
   "source": [
    "a[2][2][0]"
   ]
  },
  {
   "cell_type": "code",
   "execution_count": 13,
   "id": "e6426911-d281-46f0-8739-c8abcfda153b",
   "metadata": {},
   "outputs": [],
   "source": [
    "a = [1,2,3]"
   ]
  },
  {
   "cell_type": "code",
   "execution_count": 15,
   "id": "67e08e8f-d5e6-40be-a383-a2f6ba83a256",
   "metadata": {},
   "outputs": [
    {
     "data": {
      "text/plain": [
       "1"
      ]
     },
     "execution_count": 15,
     "metadata": {},
     "output_type": "execute_result"
    }
   ],
   "source": [
    "a.index(2)"
   ]
  },
  {
   "cell_type": "code",
   "execution_count": 16,
   "id": "4bd401e8-8ec7-45d7-9f99-e7fcfae38d50",
   "metadata": {},
   "outputs": [],
   "source": [
    "a = [1, 2, 3]"
   ]
  },
  {
   "cell_type": "code",
   "execution_count": 19,
   "id": "e9781845-6f00-401d-9b0b-b9ba807cf371",
   "metadata": {},
   "outputs": [
    {
     "data": {
      "text/plain": [
       "[5, 5, 1, 2, 3]"
      ]
     },
     "execution_count": 19,
     "metadata": {},
     "output_type": "execute_result"
    }
   ],
   "source": [
    "a.insert(0,5)\n",
    "a"
   ]
  },
  {
   "cell_type": "code",
   "execution_count": 20,
   "id": "05b01a1c-6f08-4a8a-8073-bc69613e2847",
   "metadata": {},
   "outputs": [],
   "source": [
    "a = [1,2,3]"
   ]
  },
  {
   "cell_type": "code",
   "execution_count": 21,
   "id": "7076318c-ab6d-4990-ba65-701aeb387d16",
   "metadata": {},
   "outputs": [
    {
     "data": {
      "text/plain": [
       "3"
      ]
     },
     "execution_count": 21,
     "metadata": {},
     "output_type": "execute_result"
    }
   ],
   "source": [
    "a.pop(2)"
   ]
  },
  {
   "cell_type": "code",
   "execution_count": 22,
   "id": "f0c76b95-a8a7-4c4e-9d33-e2bd8c64b678",
   "metadata": {
    "tags": []
   },
   "outputs": [
    {
     "data": {
      "text/plain": [
       "[1, 2]"
      ]
     },
     "execution_count": 22,
     "metadata": {},
     "output_type": "execute_result"
    }
   ],
   "source": [
    "a"
   ]
  },
  {
   "cell_type": "code",
   "execution_count": 1,
   "id": "e0319687-138f-40ab-a780-4312ad110db4",
   "metadata": {},
   "outputs": [
    {
     "name": "stdout",
     "output_type": "stream",
     "text": [
      "('a', 'b', 3, 4)\n"
     ]
    }
   ],
   "source": [
    "t1=('a','b')\n",
    "t2=(3,4)\n",
    "print(t1+t2)"
   ]
  },
  {
   "cell_type": "code",
   "execution_count": 14,
   "id": "e38589be-a1b4-4227-99cc-c881310c9b88",
   "metadata": {},
   "outputs": [
    {
     "name": "stdout",
     "output_type": "stream",
     "text": [
      "('1', '2', '3', 4)\n"
     ]
    }
   ],
   "source": [
    "tuple_a = ('1','2','3') \n",
    "tuple_b = (4,)\n",
    "type(tuple_b)\n",
    "print(tuple_a+tuple_b)"
   ]
  }
 ],
 "metadata": {
  "kernelspec": {
   "display_name": "Python 3",
   "language": "python",
   "name": "python3"
  },
  "language_info": {
   "codemirror_mode": {
    "name": "ipython",
    "version": 3
   },
   "file_extension": ".py",
   "mimetype": "text/x-python",
   "name": "python",
   "nbconvert_exporter": "python",
   "pygments_lexer": "ipython3",
   "version": "3.8.8"
  }
 },
 "nbformat": 4,
 "nbformat_minor": 5
}
