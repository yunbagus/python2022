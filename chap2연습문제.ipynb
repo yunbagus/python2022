{
 "cells": [
  {
   "cell_type": "code",
   "execution_count": 1,
   "id": "c1295fbf-689c-47bd-92dc-1a7de7c8cb5c",
   "metadata": {},
   "outputs": [
    {
     "data": {
      "text/plain": [
       "70.0"
      ]
     },
     "execution_count": 1,
     "metadata": {},
     "output_type": "execute_result"
    }
   ],
   "source": [
    "#1번 \n",
    "a=80\n",
    "b=75\n",
    "c=55\n",
    "(a+b+c)/3"
   ]
  },
  {
   "cell_type": "code",
   "execution_count": 2,
   "id": "66ddd0f7-6f8f-4859-884e-ba7164856fad",
   "metadata": {
    "tags": []
   },
   "outputs": [],
   "source": [
    "#2번\n",
    "a='881120-1068234'"
   ]
  },
  {
   "cell_type": "code",
   "execution_count": 10,
   "id": "c9d3dca5-9fab-4405-9f9e-0e25915c3290",
   "metadata": {},
   "outputs": [],
   "source": [
    "YYMMDD=a[:6]\n",
    "number=a[-7:]"
   ]
  },
  {
   "cell_type": "code",
   "execution_count": 8,
   "id": "dc83dad1-7cfc-43be-9c5c-44c3058b1ce6",
   "metadata": {},
   "outputs": [
    {
     "name": "stdout",
     "output_type": "stream",
     "text": [
      "881120\n"
     ]
    }
   ],
   "source": [
    "print(YYMMDD)"
   ]
  },
  {
   "cell_type": "code",
   "execution_count": 11,
   "id": "64b90699-9f3a-4e29-b67c-105e1fd48732",
   "metadata": {},
   "outputs": [
    {
     "name": "stdout",
     "output_type": "stream",
     "text": [
      "1068234\n"
     ]
    }
   ],
   "source": [
    "print(number)"
   ]
  },
  {
   "cell_type": "code",
   "execution_count": 12,
   "id": "024d31ce-9fa5-4b8c-ae30-77b924190ab7",
   "metadata": {},
   "outputs": [
    {
     "name": "stdout",
     "output_type": "stream",
     "text": [
      "1\n"
     ]
    }
   ],
   "source": [
    "#3번\n",
    "a=13%2\n",
    "print(a)"
   ]
  },
  {
   "cell_type": "code",
   "execution_count": 14,
   "id": "27e75669-f772-4040-ab8f-da541c5d8be0",
   "metadata": {},
   "outputs": [],
   "source": [
    "#4번\n",
    "pin=\"881120-1068234\"\n",
    "b=pin.split('-')"
   ]
  },
  {
   "cell_type": "code",
   "execution_count": 15,
   "id": "078b8a99-829e-47e4-8711-803db65efadd",
   "metadata": {},
   "outputs": [
    {
     "name": "stdout",
     "output_type": "stream",
     "text": [
      "['881120', '1068234']\n"
     ]
    }
   ],
   "source": [
    "print(b)"
   ]
  },
  {
   "cell_type": "code",
   "execution_count": 30,
   "id": "a2287acf-a8a3-45c6-b10d-b88b648fb2ca",
   "metadata": {},
   "outputs": [
    {
     "data": {
      "text/plain": [
       "'0'"
      ]
     },
     "execution_count": 30,
     "metadata": {},
     "output_type": "execute_result"
    }
   ],
   "source": [
    "b[1][1]"
   ]
  },
  {
   "cell_type": "code",
   "execution_count": 22,
   "id": "992d7eb1-7084-4647-ab16-9fb6d4bbd19e",
   "metadata": {
    "tags": []
   },
   "outputs": [
    {
     "name": "stdout",
     "output_type": "stream",
     "text": [
      "1\n"
     ]
    }
   ],
   "source": [
    "print(pin[7])"
   ]
  },
  {
   "cell_type": "code",
   "execution_count": 25,
   "id": "d6de7220-a8cd-4caf-b492-cdbc6baef3d3",
   "metadata": {},
   "outputs": [
    {
     "name": "stdout",
     "output_type": "stream",
     "text": [
      "a#b#c#d\n"
     ]
    }
   ],
   "source": [
    "#5번\n",
    "a='a:b:c:d'\n",
    "print(a.replace(':','#'))"
   ]
  },
  {
   "cell_type": "code",
   "execution_count": 28,
   "id": "3c0d9db1-4f59-406d-9036-ef7248a487dc",
   "metadata": {},
   "outputs": [],
   "source": [
    "#6번\n",
    "a=[1, 3, 5, 4, 2] \n",
    "a.sort()"
   ]
  },
  {
   "cell_type": "code",
   "execution_count": 29,
   "id": "8e4e9d37-8ca5-4e4d-8fc8-fc27f7fd0909",
   "metadata": {},
   "outputs": [
    {
     "name": "stdout",
     "output_type": "stream",
     "text": [
      "[5, 4, 3, 2, 1]\n"
     ]
    }
   ],
   "source": [
    "a.reverse()\n",
    "print(a)"
   ]
  },
  {
   "cell_type": "code",
   "execution_count": 38,
   "id": "4b29706f-1b60-438f-a6f6-bf3f45b2a287",
   "metadata": {},
   "outputs": [
    {
     "name": "stdout",
     "output_type": "stream",
     "text": [
      "Life is too short\n"
     ]
    }
   ],
   "source": [
    "#7번 \n",
    "list7=['Life', 'is', 'too', 'short']\n",
    "string=\" \".join(list7)\n",
    "print(string)"
   ]
  },
  {
   "cell_type": "code",
   "execution_count": 48,
   "id": "58877b32-df48-48dc-9672-472596a3c351",
   "metadata": {},
   "outputs": [
    {
     "data": {
      "text/plain": [
       "(1, 2, 3, 4)"
      ]
     },
     "execution_count": 48,
     "metadata": {},
     "output_type": "execute_result"
    }
   ],
   "source": [
    "#8번\n",
    "tuple8=(1,2,3)\n",
    "tuple7=(4,)\n",
    "tuple8+tuple7"
   ]
  },
  {
   "cell_type": "code",
   "execution_count": null,
   "id": "43e53383-f8c7-4111-8047-ec5e87a93fae",
   "metadata": {},
   "outputs": [],
   "source": [
    "#9번\n",
    "3번. key 가 변할 수 있는 list 라서 "
   ]
  },
  {
   "cell_type": "code",
   "execution_count": 1,
   "id": "2791e57c-0a7b-4fdc-9f14-5900ca6e520a",
   "metadata": {},
   "outputs": [
    {
     "name": "stdout",
     "output_type": "stream",
     "text": [
      "80\n"
     ]
    }
   ],
   "source": [
    "#10번\n",
    "a = {'A':90, 'B':80, 'C':70}\n",
    "print(a.pop('B'))"
   ]
  },
  {
   "cell_type": "code",
   "execution_count": 9,
   "id": "cc02d973-22a2-4cfe-b544-035e71a22da6",
   "metadata": {},
   "outputs": [
    {
     "name": "stdout",
     "output_type": "stream",
     "text": [
      "{1, 2, 3, 4, 5}\n"
     ]
    }
   ],
   "source": [
    "#11번\n",
    "a = [1, 1, 1, 2, 2, 3, 3, 3, 4, 4, 5]\n",
    "a.sort()\n",
    "print(set(a))"
   ]
  },
  {
   "cell_type": "code",
   "execution_count": 10,
   "id": "37095349-a9d4-4e6b-95d5-0c4615cdca8f",
   "metadata": {},
   "outputs": [
    {
     "name": "stdout",
     "output_type": "stream",
     "text": [
      "[1, 4, 3]\n"
     ]
    }
   ],
   "source": [
    "#12번\n",
    "a = b = [1, 2, 3]\n",
    "a[1]=4\n",
    "print(b)"
   ]
  }
 ],
 "metadata": {
  "kernelspec": {
   "display_name": "Python 3",
   "language": "python",
   "name": "python3"
  },
  "language_info": {
   "codemirror_mode": {
    "name": "ipython",
    "version": 3
   },
   "file_extension": ".py",
   "mimetype": "text/x-python",
   "name": "python",
   "nbconvert_exporter": "python",
   "pygments_lexer": "ipython3",
   "version": "3.8.8"
  }
 },
 "nbformat": 4,
 "nbformat_minor": 5
}
