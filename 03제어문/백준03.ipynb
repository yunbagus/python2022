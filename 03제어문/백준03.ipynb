{
 "cells": [
  {
   "cell_type": "code",
   "execution_count": 2,
   "id": "fa676639-d112-4679-bf1e-66e088dbd221",
   "metadata": {},
   "outputs": [
    {
     "name": "stdin",
     "output_type": "stream",
     "text": [
      " 3 4\n"
     ]
    },
    {
     "name": "stdout",
     "output_type": "stream",
     "text": [
      "<\n"
     ]
    }
   ],
   "source": [
    "#1330번 \n",
    "#정수라고 안 해줘서 틀린 답 인듯 \n",
    "a,b=input().split()\n",
    "\n",
    "if a > b :\n",
    "    print(\">\")\n",
    "elif a < b :\n",
    "    print(\"<\")\n",
    "else :\n",
    "    print(\"==\")"
   ]
  },
  {
   "cell_type": "code",
   "execution_count": 3,
   "id": "9dc42655-7478-42c9-96e0-0f9a2bbef434",
   "metadata": {},
   "outputs": [
    {
     "name": "stdin",
     "output_type": "stream",
     "text": [
      " 3 4\n"
     ]
    },
    {
     "name": "stdout",
     "output_type": "stream",
     "text": [
      "<\n"
     ]
    }
   ],
   "source": [
    "A,B=map(int, input().split())\n",
    "\n",
    "if A > B :\n",
    "    print(\">\")\n",
    "elif A < B :\n",
    "    print(\"<\")\n",
    "else :\n",
    "    print(\"==\")"
   ]
  },
  {
   "cell_type": "code",
   "execution_count": 6,
   "id": "8ab1b5c1-cfa2-4078-87f0-1595a1276ce3",
   "metadata": {},
   "outputs": [
    {
     "name": "stdin",
     "output_type": "stream",
     "text": [
      " 90\n"
     ]
    },
    {
     "name": "stdout",
     "output_type": "stream",
     "text": [
      "A\n"
     ]
    }
   ],
   "source": [
    "#9498번\n",
    "score=int(input())\n",
    "\n",
    "if score >= 90 and score <=100 :\n",
    "    print(\"A\")\n",
    "elif score >=80 and score <=89 :\n",
    "    print(\"B\")\n",
    "elif score >=70 and score <=79 :\n",
    "    print(\"C\")\n",
    "elif score >=60 and score <=69 :\n",
    "    print(\"D\")\n",
    "else :\n",
    "    print(\"F\")"
   ]
  },
  {
   "cell_type": "code",
   "execution_count": 12,
   "id": "f5cbca93-6d07-436c-9f5c-d304b0008d56",
   "metadata": {
    "tags": []
   },
   "outputs": [
    {
     "name": "stdin",
     "output_type": "stream",
     "text": [
      " 2012\n"
     ]
    },
    {
     "name": "stdout",
     "output_type": "stream",
     "text": [
      "1\n"
     ]
    }
   ],
   "source": [
    "#2753번\n",
    "year=int(input())\n",
    "if year%4==0 and year%100 !=0 :\n",
    "    print(\"1\")\n",
    "elif year%400==0 :\n",
    "    print(\"1\")\n",
    "elif year%100==0 and year%400 !=0:\n",
    "    print(\"0\")\n",
    "else :\n",
    "    print(\"0\")"
   ]
  },
  {
   "cell_type": "code",
   "execution_count": 7,
   "id": "fc64bc09-88a8-4df1-8b27-7bfba52f5e53",
   "metadata": {},
   "outputs": [
    {
     "name": "stdout",
     "output_type": "stream",
     "text": [
      "187500\n"
     ]
    }
   ],
   "source": [
    "#500과 1000 사이의 홀수들의 합계 for문 이용\n",
    "total=0\n",
    "for i in range(500,1001) :\n",
    "    if i%2==1 :\n",
    "        total+=i\n",
    "print(total)"
   ]
  },
  {
   "cell_type": "code",
   "execution_count": 5,
   "id": "a3d6b4dd-998f-44ea-8107-cc71ef1e1dbf",
   "metadata": {},
   "outputs": [
    {
     "name": "stdout",
     "output_type": "stream",
     "text": [
      "55\n"
     ]
    }
   ],
   "source": [
    "# 1에서 10까지의 합계 while \n",
    "a=0 \n",
    "i=1\n",
    "while i <= 10 :\n",
    "    a+=i\n",
    "    i+=1\n",
    "print(a)"
   ]
  },
  {
   "cell_type": "code",
   "execution_count": 6,
   "id": "bfaf5b20-ab88-45ba-b167-234195bfa0df",
   "metadata": {},
   "outputs": [
    {
     "name": "stdout",
     "output_type": "stream",
     "text": [
      "187500\n"
     ]
    }
   ],
   "source": [
    "sum = 0 \n",
    "for i in range(500,1000): \n",
    "    if(i%2==1): \n",
    "        sum += i \n",
    "print(sum)"
   ]
  },
  {
   "cell_type": "code",
   "execution_count": 10,
   "id": "18f0160d-2121-4f94-954f-6d352305daca",
   "metadata": {},
   "outputs": [
    {
     "name": "stdout",
     "output_type": "stream",
     "text": [
      "187500\n"
     ]
    }
   ],
   "source": [
    "result = 0\n",
    "for i in range(501, 1001) : \n",
    "    if i % 2 != 0 : \n",
    "        result += i \n",
    "print(result)"
   ]
  },
  {
   "cell_type": "code",
   "execution_count": 51,
   "id": "b51440f9-3e09-4f5e-b0ae-50ef0f1ce456",
   "metadata": {},
   "outputs": [
    {
     "name": "stdin",
     "output_type": "stream",
     "text": [
      " 0 55\n"
     ]
    },
    {
     "name": "stdout",
     "output_type": "stream",
     "text": [
      "0 10\n"
     ]
    }
   ],
   "source": [
    "#2884번 알람시계\n",
    "h,m=map(int,input().split())\n",
    "if m < 45 :\n",
    "    m=60-(45-m)\n",
    "    if h==0:\n",
    "        h=23\n",
    "    else:\n",
    "        h -=1\n",
    "else :\n",
    "    m=m-45\n",
    "print(\"%d %d\" %(h,m))"
   ]
  },
  {
   "cell_type": "code",
   "execution_count": 31,
   "id": "a73ed3b6-d138-4d02-8680-20e8a0044c15",
   "metadata": {},
   "outputs": [
    {
     "name": "stdin",
     "output_type": "stream",
     "text": [
      " 2\n"
     ]
    },
    {
     "name": "stdout",
     "output_type": "stream",
     "text": [
      "2 * 1 = 2\n",
      "2 * 2 = 4\n",
      "2 * 3 = 6\n",
      "2 * 4 = 8\n",
      "2 * 5 = 10\n",
      "2 * 6 = 12\n",
      "2 * 7 = 14\n",
      "2 * 8 = 16\n",
      "2 * 9 = 18\n"
     ]
    }
   ],
   "source": [
    "#2739번 구구단 \n",
    "i = int(input())\n",
    "for j in range(1,10):\n",
    "        a=i*j\n",
    "        print(i ,\"*\", j, \"=\", a)"
   ]
  },
  {
   "cell_type": "code",
   "execution_count": 36,
   "id": "e137d258-8b0e-45ec-b6ef-8ec4fcc0985c",
   "metadata": {},
   "outputs": [
    {
     "name": "stdin",
     "output_type": "stream",
     "text": [
      " 7\n"
     ]
    },
    {
     "name": "stdout",
     "output_type": "stream",
     "text": [
      "7\n",
      "6\n",
      "5\n",
      "4\n",
      "3\n",
      "2\n",
      "1\n"
     ]
    }
   ],
   "source": [
    "#2742번 기찍N\n",
    "a=int(input())\n",
    "for i in range(a,0,-1):\n",
    "    print(i)"
   ]
  },
  {
   "cell_type": "code",
   "execution_count": 38,
   "id": "f268348a-d159-4bd6-869d-35f62bb049d4",
   "metadata": {},
   "outputs": [
    {
     "name": "stdin",
     "output_type": "stream",
     "text": [
      " 3\n"
     ]
    },
    {
     "name": "stdout",
     "output_type": "stream",
     "text": [
      "*\n",
      "**\n",
      "***\n"
     ]
    }
   ],
   "source": [
    "#2438번 별찍기 \n",
    "i=int(input())\n",
    "for i in range(1,i+1):\n",
    "    print('*'*i)"
   ]
  },
  {
   "cell_type": "code",
   "execution_count": null,
   "id": "dfaed88b-0972-44f8-b9cb-63a1491c0b40",
   "metadata": {},
   "outputs": [],
   "source": []
  }
 ],
 "metadata": {
  "kernelspec": {
   "display_name": "Python 3",
   "language": "python",
   "name": "python3"
  },
  "language_info": {
   "codemirror_mode": {
    "name": "ipython",
    "version": 3
   },
   "file_extension": ".py",
   "mimetype": "text/x-python",
   "name": "python",
   "nbconvert_exporter": "python",
   "pygments_lexer": "ipython3",
   "version": "3.8.8"
  }
 },
 "nbformat": 4,
 "nbformat_minor": 5
}
